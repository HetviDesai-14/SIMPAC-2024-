{
  "nbformat": 4,
  "nbformat_minor": 0,
  "metadata": {
    "colab": {
      "provenance": []
    },
    "kernelspec": {
      "display_name": "Python 3",
      "name": "python3"
    }
  },
  "cells": [
    {
      "cell_type": "code",
      "metadata": {
        "id": "lxDCzl6SUg5h"
      },
      "source": [],
      "execution_count": null,
      "outputs": []
    },
    {
      "cell_type": "code",
      "metadata": {
        "id": "XITpVuCiUvco",
        "colab": {
          "base_uri": "https://localhost:8080/",
          "height": 304
        },
        "outputId": "8b845b0f-3e9b-4f5d-dc17-abcd26ff53dc"
      },
      "source": [
        "from google.colab import drive\n",
        "drive.mount('/content/drive')"
      ],
      "execution_count": null,
      "outputs": [
        {
          "output_type": "error",
          "ename": "MessageError",
          "evalue": "Error: credential propagation was unsuccessful",
          "traceback": [
            "\u001b[0;31m---------------------------------------------------------------------------\u001b[0m",
            "\u001b[0;31mMessageError\u001b[0m                              Traceback (most recent call last)",
            "\u001b[0;32m<ipython-input-1-d5df0069828e>\u001b[0m in \u001b[0;36m<cell line: 2>\u001b[0;34m()\u001b[0m\n\u001b[1;32m      1\u001b[0m \u001b[0;32mfrom\u001b[0m \u001b[0mgoogle\u001b[0m\u001b[0;34m.\u001b[0m\u001b[0mcolab\u001b[0m \u001b[0;32mimport\u001b[0m \u001b[0mdrive\u001b[0m\u001b[0;34m\u001b[0m\u001b[0;34m\u001b[0m\u001b[0m\n\u001b[0;32m----> 2\u001b[0;31m \u001b[0mdrive\u001b[0m\u001b[0;34m.\u001b[0m\u001b[0mmount\u001b[0m\u001b[0;34m(\u001b[0m\u001b[0;34m'/content/drive'\u001b[0m\u001b[0;34m)\u001b[0m\u001b[0;34m\u001b[0m\u001b[0;34m\u001b[0m\u001b[0m\n\u001b[0m",
            "\u001b[0;32m/usr/local/lib/python3.10/dist-packages/google/colab/drive.py\u001b[0m in \u001b[0;36mmount\u001b[0;34m(mountpoint, force_remount, timeout_ms, readonly)\u001b[0m\n\u001b[1;32m     98\u001b[0m \u001b[0;32mdef\u001b[0m \u001b[0mmount\u001b[0m\u001b[0;34m(\u001b[0m\u001b[0mmountpoint\u001b[0m\u001b[0;34m,\u001b[0m \u001b[0mforce_remount\u001b[0m\u001b[0;34m=\u001b[0m\u001b[0;32mFalse\u001b[0m\u001b[0;34m,\u001b[0m \u001b[0mtimeout_ms\u001b[0m\u001b[0;34m=\u001b[0m\u001b[0;36m120000\u001b[0m\u001b[0;34m,\u001b[0m \u001b[0mreadonly\u001b[0m\u001b[0;34m=\u001b[0m\u001b[0;32mFalse\u001b[0m\u001b[0;34m)\u001b[0m\u001b[0;34m:\u001b[0m\u001b[0;34m\u001b[0m\u001b[0;34m\u001b[0m\u001b[0m\n\u001b[1;32m     99\u001b[0m   \u001b[0;34m\"\"\"Mount your Google Drive at the specified mountpoint path.\"\"\"\u001b[0m\u001b[0;34m\u001b[0m\u001b[0;34m\u001b[0m\u001b[0m\n\u001b[0;32m--> 100\u001b[0;31m   return _mount(\n\u001b[0m\u001b[1;32m    101\u001b[0m       \u001b[0mmountpoint\u001b[0m\u001b[0;34m,\u001b[0m\u001b[0;34m\u001b[0m\u001b[0;34m\u001b[0m\u001b[0m\n\u001b[1;32m    102\u001b[0m       \u001b[0mforce_remount\u001b[0m\u001b[0;34m=\u001b[0m\u001b[0mforce_remount\u001b[0m\u001b[0;34m,\u001b[0m\u001b[0;34m\u001b[0m\u001b[0;34m\u001b[0m\u001b[0m\n",
            "\u001b[0;32m/usr/local/lib/python3.10/dist-packages/google/colab/drive.py\u001b[0m in \u001b[0;36m_mount\u001b[0;34m(mountpoint, force_remount, timeout_ms, ephemeral, readonly)\u001b[0m\n\u001b[1;32m    131\u001b[0m   )\n\u001b[1;32m    132\u001b[0m   \u001b[0;32mif\u001b[0m \u001b[0mephemeral\u001b[0m\u001b[0;34m:\u001b[0m\u001b[0;34m\u001b[0m\u001b[0;34m\u001b[0m\u001b[0m\n\u001b[0;32m--> 133\u001b[0;31m     _message.blocking_request(\n\u001b[0m\u001b[1;32m    134\u001b[0m         \u001b[0;34m'request_auth'\u001b[0m\u001b[0;34m,\u001b[0m\u001b[0;34m\u001b[0m\u001b[0;34m\u001b[0m\u001b[0m\n\u001b[1;32m    135\u001b[0m         \u001b[0mrequest\u001b[0m\u001b[0;34m=\u001b[0m\u001b[0;34m{\u001b[0m\u001b[0;34m'authType'\u001b[0m\u001b[0;34m:\u001b[0m \u001b[0;34m'dfs_ephemeral'\u001b[0m\u001b[0;34m}\u001b[0m\u001b[0;34m,\u001b[0m\u001b[0;34m\u001b[0m\u001b[0;34m\u001b[0m\u001b[0m\n",
            "\u001b[0;32m/usr/local/lib/python3.10/dist-packages/google/colab/_message.py\u001b[0m in \u001b[0;36mblocking_request\u001b[0;34m(request_type, request, timeout_sec, parent)\u001b[0m\n\u001b[1;32m    174\u001b[0m       \u001b[0mrequest_type\u001b[0m\u001b[0;34m,\u001b[0m \u001b[0mrequest\u001b[0m\u001b[0;34m,\u001b[0m \u001b[0mparent\u001b[0m\u001b[0;34m=\u001b[0m\u001b[0mparent\u001b[0m\u001b[0;34m,\u001b[0m \u001b[0mexpect_reply\u001b[0m\u001b[0;34m=\u001b[0m\u001b[0;32mTrue\u001b[0m\u001b[0;34m\u001b[0m\u001b[0;34m\u001b[0m\u001b[0m\n\u001b[1;32m    175\u001b[0m   )\n\u001b[0;32m--> 176\u001b[0;31m   \u001b[0;32mreturn\u001b[0m \u001b[0mread_reply_from_input\u001b[0m\u001b[0;34m(\u001b[0m\u001b[0mrequest_id\u001b[0m\u001b[0;34m,\u001b[0m \u001b[0mtimeout_sec\u001b[0m\u001b[0;34m)\u001b[0m\u001b[0;34m\u001b[0m\u001b[0;34m\u001b[0m\u001b[0m\n\u001b[0m",
            "\u001b[0;32m/usr/local/lib/python3.10/dist-packages/google/colab/_message.py\u001b[0m in \u001b[0;36mread_reply_from_input\u001b[0;34m(message_id, timeout_sec)\u001b[0m\n\u001b[1;32m    101\u001b[0m     ):\n\u001b[1;32m    102\u001b[0m       \u001b[0;32mif\u001b[0m \u001b[0;34m'error'\u001b[0m \u001b[0;32min\u001b[0m \u001b[0mreply\u001b[0m\u001b[0;34m:\u001b[0m\u001b[0;34m\u001b[0m\u001b[0;34m\u001b[0m\u001b[0m\n\u001b[0;32m--> 103\u001b[0;31m         \u001b[0;32mraise\u001b[0m \u001b[0mMessageError\u001b[0m\u001b[0;34m(\u001b[0m\u001b[0mreply\u001b[0m\u001b[0;34m[\u001b[0m\u001b[0;34m'error'\u001b[0m\u001b[0;34m]\u001b[0m\u001b[0;34m)\u001b[0m\u001b[0;34m\u001b[0m\u001b[0;34m\u001b[0m\u001b[0m\n\u001b[0m\u001b[1;32m    104\u001b[0m       \u001b[0;32mreturn\u001b[0m \u001b[0mreply\u001b[0m\u001b[0;34m.\u001b[0m\u001b[0mget\u001b[0m\u001b[0;34m(\u001b[0m\u001b[0;34m'data'\u001b[0m\u001b[0;34m,\u001b[0m \u001b[0;32mNone\u001b[0m\u001b[0;34m)\u001b[0m\u001b[0;34m\u001b[0m\u001b[0;34m\u001b[0m\u001b[0m\n\u001b[1;32m    105\u001b[0m \u001b[0;34m\u001b[0m\u001b[0m\n",
            "\u001b[0;31mMessageError\u001b[0m: Error: credential propagation was unsuccessful"
          ]
        }
      ]
    },
    {
      "cell_type": "code",
      "metadata": {
        "id": "IC9ZJFsTVAaW"
      },
      "source": [
        "ls"
      ],
      "execution_count": null,
      "outputs": []
    },
    {
      "cell_type": "code",
      "metadata": {
        "colab": {
          "base_uri": "https://localhost:8080/"
        },
        "id": "Ob9zkpl21EH6",
        "outputId": "0491559e-0fbb-4b03-d384-189c43be833c"
      },
      "source": [
        "cd sample_data\n"
      ],
      "execution_count": null,
      "outputs": [
        {
          "output_type": "stream",
          "name": "stdout",
          "text": [
            "/content/sample_data\n"
          ]
        }
      ]
    },
    {
      "cell_type": "code",
      "metadata": {
        "id": "9Rei80XTVHat"
      },
      "source": [
        "import numpy as np\n",
        "import matplotlib.pyplot as plt\n",
        "import seaborn as sns\n",
        "import pandas as pd\n",
        "input_path1 = \"1.MANGO_anthracnose.csv\"\n",
        "input_path2 = \"2.MANGO_anthracnose.csv\"\n",
        "\n",
        "input_path3 = \"1.MANGO_healthy.csv\"\n",
        "input_path4 = \"2.MANGO_healthy.csv\"\n",
        "input_path5 = \"3.MANGO_healthy.csv\"\n",
        "input_path6 = \"1.sooty mould.csv\"\n",
        "\n",
        "input_path7 = \"2.sooty mould.csv\"\n",
        "\n",
        "input_path8 = \"3.sooty mould.csv\"\n",
        "input_path9 = \"1.MANGO_powdermildew.csv\"\n",
        "\n",
        "\n",
        "\n",
        "\n",
        "data1=pd.read_csv(input_path1)\n",
        "data2=pd.read_csv(input_path2)\n",
        "data3=pd.read_csv(input_path3)\n",
        "\n",
        "data4=pd.read_csv(input_path4)\n",
        "data5=pd.read_csv(input_path5)\n",
        "\n",
        "data6=pd.read_csv(input_path6)\n",
        "data7=pd.read_csv(input_path7)\n",
        "data8=pd.read_csv(input_path8)\n",
        "data9=pd.read_csv(input_path9)\n"
      ],
      "execution_count": null,
      "outputs": []
    },
    {
      "cell_type": "code",
      "metadata": {
        "colab": {
          "base_uri": "https://localhost:8080/"
        },
        "id": "PneMcfDnWZaW",
        "outputId": "6630204b-f179-4e54-a46f-2f74da889f2c"
      },
      "source": [
        "data1.columns"
      ],
      "execution_count": null,
      "outputs": [
        {
          "output_type": "execute_result",
          "data": {
            "text/plain": [
              "Index(['% Time Stamp', ' Integration Time', ' Reference Current', 'Diode 1',\n",
              "       ' Diode 2', ' Diode 3', ' Diode 4', ' Diode 5', ' Diode 6', ' Diode 7',\n",
              "       ' Diode 8', ' User Comment'],\n",
              "      dtype='object')"
            ]
          },
          "metadata": {},
          "execution_count": 4
        }
      ]
    },
    {
      "cell_type": "code",
      "metadata": {
        "id": "iLnJvHYNVXVq",
        "colab": {
          "base_uri": "https://localhost:8080/"
        },
        "outputId": "4c0884b9-d949-49b4-ab98-f271ff873d07"
      },
      "source": [
        "df1= data1.drop(['% Time Stamp', ' Integration Time', ' Reference Current', ' User Comment'],axis=1)\n",
        "df2= data2.drop(['% Time Stamp', ' Integration Time', ' Reference Current', ' User Comment'],axis=1)\n",
        "df3= data3.drop(['% Time Stamp', ' Integration Time', ' Reference Current', ' User Comment'],axis=1)\n",
        "\n",
        "df4= data4.drop(['% Time Stamp', ' Integration Time', ' Reference Current', ' User Comment'],axis=1)\n",
        "\n",
        "\n",
        "df5= data5.drop(['% Time Stamp', ' Integration Time', ' Reference Current', ' User Comment'],axis=1)\n",
        "\n",
        "df6= data6.drop(['% Time Stamp', ' Integration Time', ' Reference Current', ' User Comment'],axis=1)\n",
        "df7= data7.drop(['% Time Stamp', ' Integration Time', ' Reference Current', ' User Comment'],axis=1)\n",
        "df8= data8.drop(['% Time Stamp', ' Integration Time', ' Reference Current', ' User Comment'],axis=1)\n",
        "df9= data9.drop(['% Time Stamp', ' Integration Time', ' Reference Current', ' User Comment'],axis=1)\n",
        "\n",
        "\n",
        "\n",
        "df1[\"label\"] = 'anthracnose'\n",
        "df2[\"label\"] = 'anthracnose'\n",
        "df3[\"label\"] = 'healthy'\n",
        "\n",
        "df4[\"label\"] = 'healthy'\n",
        "\n",
        "df5[\"label\"] = 'healthy'\n",
        "df6[\"label\"] = 'sooty mould'\n",
        "df7[\"label\"] = 'sooty mould'\n",
        "df8[\"label\"] = 'sooty mould'\n",
        "df9[\"label\"] = 'powdermildew'\n",
        "\n",
        "df1 = df1.append(df2)\n",
        "df1 = df1.append(df3)\n",
        "\n",
        "df1 = df1.append(df4)\n",
        "\n",
        "df1 = df1.append(df5)\n",
        "df1 = df1.append(df6)\n",
        "df1 = df1.append(df7)\n",
        "df1 = df1.append(df9)\n",
        "df_data = df1.append(df9)\n",
        "\n"
      ],
      "execution_count": null,
      "outputs": [
        {
          "output_type": "stream",
          "name": "stderr",
          "text": [
            "<ipython-input-5-4126aac3a631>:29: FutureWarning: The frame.append method is deprecated and will be removed from pandas in a future version. Use pandas.concat instead.\n",
            "  df1 = df1.append(df2)\n",
            "<ipython-input-5-4126aac3a631>:30: FutureWarning: The frame.append method is deprecated and will be removed from pandas in a future version. Use pandas.concat instead.\n",
            "  df1 = df1.append(df3)\n",
            "<ipython-input-5-4126aac3a631>:32: FutureWarning: The frame.append method is deprecated and will be removed from pandas in a future version. Use pandas.concat instead.\n",
            "  df1 = df1.append(df4)\n",
            "<ipython-input-5-4126aac3a631>:34: FutureWarning: The frame.append method is deprecated and will be removed from pandas in a future version. Use pandas.concat instead.\n",
            "  df1 = df1.append(df5)\n",
            "<ipython-input-5-4126aac3a631>:35: FutureWarning: The frame.append method is deprecated and will be removed from pandas in a future version. Use pandas.concat instead.\n",
            "  df1 = df1.append(df6)\n",
            "<ipython-input-5-4126aac3a631>:36: FutureWarning: The frame.append method is deprecated and will be removed from pandas in a future version. Use pandas.concat instead.\n",
            "  df1 = df1.append(df7)\n",
            "<ipython-input-5-4126aac3a631>:37: FutureWarning: The frame.append method is deprecated and will be removed from pandas in a future version. Use pandas.concat instead.\n",
            "  df1 = df1.append(df9)\n",
            "<ipython-input-5-4126aac3a631>:38: FutureWarning: The frame.append method is deprecated and will be removed from pandas in a future version. Use pandas.concat instead.\n",
            "  df_data = df1.append(df9)\n"
          ]
        }
      ]
    },
    {
      "cell_type": "code",
      "metadata": {
        "colab": {
          "base_uri": "https://localhost:8080/"
        },
        "id": "omnasDSBVYlz",
        "outputId": "ab4d8358-f404-4603-ef57-0aad02abe9b4"
      },
      "source": [
        "df_data.info()"
      ],
      "execution_count": null,
      "outputs": [
        {
          "output_type": "stream",
          "name": "stdout",
          "text": [
            "<class 'pandas.core.frame.DataFrame'>\n",
            "Int64Index: 22786 entries, 0 to 1999\n",
            "Data columns (total 9 columns):\n",
            " #   Column    Non-Null Count  Dtype \n",
            "---  ------    --------------  ----- \n",
            " 0   Diode 1   22786 non-null  int64 \n",
            " 1    Diode 2  22786 non-null  int64 \n",
            " 2    Diode 3  22786 non-null  int64 \n",
            " 3    Diode 4  22786 non-null  int64 \n",
            " 4    Diode 5  22786 non-null  int64 \n",
            " 5    Diode 6  22786 non-null  int64 \n",
            " 6    Diode 7  22786 non-null  int64 \n",
            " 7    Diode 8  22786 non-null  int64 \n",
            " 8   label     22786 non-null  object\n",
            "dtypes: int64(8), object(1)\n",
            "memory usage: 1.7+ MB\n"
          ]
        }
      ]
    },
    {
      "cell_type": "code",
      "metadata": {
        "colab": {
          "base_uri": "https://localhost:8080/"
        },
        "id": "3MwYom1bb_fE",
        "outputId": "a633c614-e5cd-4edd-c350-a4d28aa8f219"
      },
      "source": [
        "# Extracting the predictors ( Diode1 to Diode8):\n",
        "X = df_data.iloc[:, 0:8].values\n",
        "X"
      ],
      "execution_count": null,
      "outputs": [
        {
          "output_type": "execute_result",
          "data": {
            "text/plain": [
              "array([[ 254,  286,  306, ...,  189,  177, 6311],\n",
              "       [ 267,  298,  312, ...,  189,  175, 6710],\n",
              "       [ 258,  290,  308, ...,  192,  180, 6365],\n",
              "       ...,\n",
              "       [ 380,  377,  437, ...,  308,  310, 7895],\n",
              "       [ 370,  377,  437, ...,  307,  309, 7907],\n",
              "       [ 375,  373,  433, ...,  301,  303, 8017]])"
            ]
          },
          "metadata": {},
          "execution_count": 9
        }
      ]
    },
    {
      "cell_type": "code",
      "metadata": {
        "colab": {
          "base_uri": "https://localhost:8080/"
        },
        "id": "21P9ZBqPcHHE",
        "outputId": "28d4c06d-c6b0-415e-efdc-bd9663e28c70"
      },
      "source": [
        "y = df_data.iloc[:,8].values\n",
        "y=y.astype('int')\n",
        "y"
      ],
      "execution_count": null,
      "outputs": [
        {
          "output_type": "execute_result",
          "data": {
            "text/plain": [
              "array([2, 2, 2, ..., 4, 4, 4])"
            ]
          },
          "metadata": {},
          "execution_count": 12
        }
      ]
    },
    {
      "cell_type": "code",
      "metadata": {
        "id": "dkMjlYtecc2L"
      },
      "source": [
        "#Importing the necessary packages and libaries\n",
        "from sklearn.metrics import confusion_matrix\n",
        "from sklearn.model_selection import train_test_split\n",
        "from sklearn import svm, datasets\n",
        "import matplotlib.pyplot as plt\n",
        "import numpy as np\n",
        "\n",
        "# Splitting the data into Training and Testing:\n",
        "from sklearn.model_selection import train_test_split\n",
        "X_train, X_test, y_train, y_test = train_test_split(X, y, test_size = 0.2, random_state = 0)"
      ],
      "execution_count": null,
      "outputs": []
    },
    {
      "cell_type": "code",
      "metadata": {
        "colab": {
          "base_uri": "https://localhost:8080/"
        },
        "id": "oiFubo-Cc6Io",
        "outputId": "5dc6b7e0-9458-4e2c-f17d-e2224a2cf77d"
      },
      "source": [
        "import numpy as np\n",
        "from tensorflow.keras.models import Sequential\n",
        "from tensorflow.keras.layers import Dense, Activation, Dropout\n",
        "from tensorflow.keras.utils import to_categorical, plot_model\n",
        "from tensorflow.keras.datasets import mnist\n",
        "from sklearn.model_selection import train_test_split\n",
        "from imblearn.under_sampling import RandomUnderSampler\n",
        "from imblearn.over_sampling import SMOTE\n",
        "from sklearn.pipeline import make_pipeline\n",
        "from sklearn.preprocessing import StandardScaler\n",
        "from sklearn.svm import NuSVC\n",
        "\n",
        "X_train, X_test, y_train, y_test = train_test_split(X, y, stratify=y,test_size=0.20, random_state=80)\n",
        "from sklearn import preprocessing\n",
        "\n",
        "X_train = preprocessing.normalize(X_train)\n",
        "X_test = preprocessing.normalize(X_test)\n",
        "\n",
        "model = Sequential()\n",
        "model.add(Dense(128, input_dim=8))\n",
        "model.add(Activation('relu'))\n",
        "model.add(Dense(128))\n",
        "model.add(Activation('relu'))\n",
        "#model.add(Dropout(0.15))\n",
        "model.add(Dense(5))\n",
        "# this is the output for one-hot vector\n",
        "model.add(Activation('softmax'))\n",
        "model.summary()\n",
        "model.compile(loss='sparse_categorical_crossentropy',\n",
        "              optimizer='adam',\n",
        "              metrics=['accuracy'])\n",
        "# train the network\n",
        "model.fit(X_train, y_train, validation_data= (X_test,y_test) , epochs=35, batch_size=16)\n"
      ],
      "execution_count": null,
      "outputs": [
        {
          "output_type": "stream",
          "name": "stdout",
          "text": [
            "Model: \"sequential\"\n",
            "_________________________________________________________________\n",
            " Layer (type)                Output Shape              Param #   \n",
            "=================================================================\n",
            " dense (Dense)               (None, 128)               1152      \n",
            "                                                                 \n",
            " activation (Activation)     (None, 128)               0         \n",
            "                                                                 \n",
            " dense_1 (Dense)             (None, 128)               16512     \n",
            "                                                                 \n",
            " activation_1 (Activation)   (None, 128)               0         \n",
            "                                                                 \n",
            " dense_2 (Dense)             (None, 5)                 645       \n",
            "                                                                 \n",
            " activation_2 (Activation)   (None, 5)                 0         \n",
            "                                                                 \n",
            "=================================================================\n",
            "Total params: 18309 (71.52 KB)\n",
            "Trainable params: 18309 (71.52 KB)\n",
            "Non-trainable params: 0 (0.00 Byte)\n",
            "_________________________________________________________________\n",
            "Epoch 1/10\n",
            "15950/15950 [==============================] - 31s 2ms/step - loss: 1.2563 - accuracy: 0.4132 - val_loss: 1.0483 - val_accuracy: 0.5294\n",
            "Epoch 2/10\n",
            "15950/15950 [==============================] - 25s 2ms/step - loss: 0.5225 - accuracy: 0.8125 - val_loss: 0.2485 - val_accuracy: 0.9457\n",
            "Epoch 3/10\n",
            "15950/15950 [==============================] - 26s 2ms/step - loss: 0.2693 - accuracy: 0.9043 - val_loss: 0.1556 - val_accuracy: 0.9476\n",
            "Epoch 4/10\n",
            "15950/15950 [==============================] - 25s 2ms/step - loss: 0.2226 - accuracy: 0.9159 - val_loss: 0.1240 - val_accuracy: 0.9522\n",
            "Epoch 5/10\n",
            "15950/15950 [==============================] - 25s 2ms/step - loss: 0.2103 - accuracy: 0.9186 - val_loss: 0.0836 - val_accuracy: 0.9813\n",
            "Epoch 6/10\n",
            "15950/15950 [==============================] - 26s 2ms/step - loss: 0.1930 - accuracy: 0.9255 - val_loss: 0.1435 - val_accuracy: 0.9365\n",
            "Epoch 7/10\n",
            "15950/15950 [==============================] - 25s 2ms/step - loss: 0.1709 - accuracy: 0.9349 - val_loss: 0.3545 - val_accuracy: 0.8736\n",
            "Epoch 8/10\n",
            "15950/15950 [==============================] - 25s 2ms/step - loss: 0.1672 - accuracy: 0.9352 - val_loss: 0.2556 - val_accuracy: 0.8869\n",
            "Epoch 9/10\n",
            "15950/15950 [==============================] - 26s 2ms/step - loss: 0.1630 - accuracy: 0.9377 - val_loss: 0.2236 - val_accuracy: 0.9124\n",
            "Epoch 10/10\n",
            "15950/15950 [==============================] - 26s 2ms/step - loss: 0.1622 - accuracy: 0.9369 - val_loss: 0.0860 - val_accuracy: 0.9593\n"
          ]
        },
        {
          "output_type": "execute_result",
          "data": {
            "text/plain": [
              "<keras.src.callbacks.History at 0x7efcfc57d5d0>"
            ]
          },
          "metadata": {},
          "execution_count": 14
        }
      ]
    },
    {
      "cell_type": "code",
      "metadata": {
        "id": "tf-jAA05dUb6",
        "colab": {
          "base_uri": "https://localhost:8080/"
        },
        "outputId": "39854037-2c93-4175-fe82-d09fe1dee635"
      },
      "source": [
        "print(\"Evaluate on test data\")\n",
        "results = model.evaluate(X_test, y_test, batch_size=128)\n",
        "print(\"test loss, test acc:\", results)"
      ],
      "execution_count": null,
      "outputs": [
        {
          "output_type": "stream",
          "name": "stdout",
          "text": [
            "Evaluate on test data\n",
            "54/54 [==============================] - 0s 3ms/step - loss: 0.0860 - accuracy: 0.9593\n",
            "test loss, test acc: [0.08604733645915985, 0.9593329429626465]\n"
          ]
        }
      ]
    },
    {
      "cell_type": "code",
      "source": [],
      "metadata": {
        "id": "p8LCq_lZxVY5"
      },
      "execution_count": null,
      "outputs": []
    }
  ]
}